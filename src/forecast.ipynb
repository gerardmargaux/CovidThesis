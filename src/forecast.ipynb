{
 "cells": [
  {
   "cell_type": "code",
   "execution_count": 1,
   "metadata": {},
   "outputs": [],
   "source": [
    "import pandas as pd\n",
    "import data_collection as dc\n",
    "import prediction_model as pm"
   ]
  },
  {
   "cell_type": "code",
   "execution_count": 2,
   "metadata": {
    "pycharm": {
     "name": "#%%\n"
    }
   },
   "outputs": [],
   "source": [
    "def add_lag_diff(df, begin, end, interval, dropna=True):\n",
    "    columns = df.columns\n",
    "    for column in columns:\n",
    "        if column.lower() == 'date':\n",
    "            continue\n",
    "        for i in range(begin, end, interval):\n",
    "            df[f'{column}_{i}_lag'] = df[column].shift(i)  # lags in days\n",
    "            df[f'{column}_{i}_diff'] = df[f'{column}_{i}_lag'].diff()  # difference\n",
    "    return df.dropna() if dropna else df"
   ]
  },
  {
   "cell_type": "code",
   "execution_count": null,
   "outputs": [],
   "source": [
    "    geo = \"BE\"\n",
    "    url_trends = \"https://raw.githubusercontent.com/gerardmargaux/CovidThesis/master/data/trends/model/\"\n",
    "    url_hospi = \"https://raw.githubusercontent.com/gerardmargaux/CovidThesis/master/src/be-covid-hospi.csv\"\n",
    "    full_df = pm.create_df_trends_url(url_trends, url_hospi, geo)\n",
    "    full_data, full_data_no_rolling = pm.google_trends_process(full_df, pm.list_topics, start_year=2020, start_mon=2,\n",
    "                                                               stop_year=2020,\n",
    "                                                              stop_mon=9, step=1, data_collection=False)"
   ],
   "metadata": {
    "collapsed": false,
    "pycharm": {
     "name": "#%%\n"
    }
   }
  },
  {
   "cell_type": "code",
   "execution_count": null,
   "outputs": [],
   "source": [
    "full_data.columns"
   ],
   "metadata": {
    "collapsed": false,
    "pycharm": {
     "name": "#%%\n"
    }
   }
  },
  {
   "cell_type": "code",
   "execution_count": null,
   "outputs": [],
   "source": [],
   "metadata": {
    "collapsed": false,
    "pycharm": {
     "name": "#%%\n"
    }
   }
  },
  {
   "cell_type": "code",
   "execution_count": 3,
   "metadata": {},
   "outputs": [
    {
     "name": "stdout",
     "output_type": "stream",
     "text": [
      "Fièvre\n",
      "Mal de gorge\n",
      "Dyspnée\n",
      "Agueusie\n",
      "Anosmie\n",
      "Coronavirus\n",
      "Virus\n",
      "Température corporelle humaine\n",
      "Épidémie\n",
      "Symptôme\n",
      "Thermomètre\n",
      "Grippe espagnole\n",
      "Paracétamol\n",
      "Respiration\n",
      "Toux\n"
     ]
    }
   ],
   "source": []
  },
  {
   "cell_type": "code",
   "execution_count": 5,
   "metadata": {},
   "outputs": [
    {
     "data": {
      "text/plain": [
       "Index(['Fièvre', 'Mal de gorge', 'Dyspnée', 'Agueusie', 'Anosmie',\n",
       "       'Coronavirus', 'Virus', 'Température corporelle humaine', 'Épidémie',\n",
       "       'Symptôme', 'Thermomètre', 'Grippe espagnole', 'Paracétamol',\n",
       "       'Respiration', 'Toux', '/m/0cjf0', '/m/0b76bty', '/m/01cdt5',\n",
       "       '/m/05sfr2', '/m/0m7pl', '/m/01cpyy', '/m/0g9pc', '/g/1213j0cz',\n",
       "       '/m/0hn9s', '/m/01b_06', '/m/07mf1', '/m/01c751', '/m/0lbt3',\n",
       "       '/m/02gy9_', '/m/01b_21', 'HOSP_CORR'],\n",
       "      dtype='object')"
      ]
     },
     "execution_count": 5,
     "metadata": {},
     "output_type": "execute_result"
    }
   ],
   "source": [
    "full_data.columns"
   ]
  },
  {
   "cell_type": "code",
   "execution_count": null,
   "metadata": {},
   "outputs": [],
   "source": []
  }
 ],
 "metadata": {
  "kernelspec": {
   "display_name": "Python 3",
   "language": "python",
   "name": "python3"
  },
  "language_info": {
   "codemirror_mode": {
    "name": "ipython",
    "version": 3
   },
   "file_extension": ".py",
   "mimetype": "text/x-python",
   "name": "python",
   "nbconvert_exporter": "python",
   "pygments_lexer": "ipython3",
   "version": "3.8.5"
  }
 },
 "nbformat": 4,
 "nbformat_minor": 1
}